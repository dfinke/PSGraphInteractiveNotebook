{
 "cells": [
  {
   "cell_type": "code",
   "execution_count": null,
   "metadata": {
    "dotnet_interactive": {
     "language": "pwsh"
    },
    "vscode": {
     "languageId": "dotnet-interactive.pwsh"
    }
   },
   "outputs": [],
   "source": [
    ". .\\psgraphNB.ps1"
   ]
  },
  {
   "cell_type": "markdown",
   "metadata": {},
   "source": [
    "## A quick graph before we start"
   ]
  },
  {
   "cell_type": "code",
   "execution_count": null,
   "metadata": {
    "dotnet_interactive": {
     "language": "pwsh"
    },
    "vscode": {
     "languageId": "dotnet-interactive.pwsh"
    }
   },
   "outputs": [],
   "source": [
    "$g = graph basic {\n",
    "    edge -From start -To middle\n",
    "    edge -From middle -To end\n",
    "} | Show-InNotebook quick.png"
   ]
  },
  {
   "cell_type": "markdown",
   "metadata": {},
   "source": [
    "## Nodes and Edges"
   ]
  },
  {
   "cell_type": "code",
   "execution_count": null,
   "metadata": {
    "dotnet_interactive": {
     "language": "pwsh"
    },
    "vscode": {
     "languageId": "dotnet-interactive.pwsh"
    }
   },
   "outputs": [],
   "source": [
    "graph g @{rankdir='LR'} {\n",
    "    node a @{label='Node'}\n",
    "    node b  @{label='Node'}\n",
    "    edge -from a -to b @{label='Edge'}\n",
    "} | Show-InNotebook nodesAndEdges.png"
   ]
  },
  {
   "cell_type": "markdown",
   "metadata": {},
   "source": [
    "## Project flow"
   ]
  },
  {
   "cell_type": "code",
   "execution_count": null,
   "metadata": {
    "dotnet_interactive": {
     "language": "pwsh"
    },
    "vscode": {
     "languageId": "dotnet-interactive.pwsh"
    }
   },
   "outputs": [],
   "source": [
    "$g = graph g {\n",
    "    node -default @{shape='rectangle'}\n",
    "    node git @{label=\"Local git repo\";shape='folder'}\n",
    "    node github @{label=\"GitHub.com \\\\master\"}\n",
    "\n",
    "    edge git,github,AppVeyor.com,PowershellGallery.com\n",
    "    edge github -to ReadTheDocs.com\n",
    "} | Show-InNotebook projectFlow.png"
   ]
  },
  {
   "cell_type": "markdown",
   "metadata": {},
   "source": [
    "## A more detailed project flow"
   ]
  },
  {
   "cell_type": "code",
   "execution_count": null,
   "metadata": {
    "dotnet_interactive": {
     "language": "pwsh"
    },
    "vscode": {
     "languageId": "dotnet-interactive.pwsh"
    }
   },
   "outputs": [],
   "source": [
    "graph g {\n",
    "    node -default @{shape='rectangle'}\n",
    "    node git @{label=\"Local git repo\";shape='folder'}\n",
    "    node github @{label=\"GitHub.com \\\\master\";style='filled'}\n",
    "\n",
    "    edge VSCode -to git @{label='git commit'}\n",
    "    edge git -To github @{label='git push'}\n",
    "    edge github -To AppVeyor.com,ReadTheDocs.com  @{label='trigger';style='dotted'}\n",
    "    edge AppVeyor.com -to PowershellGallery.com @{label='build/publish'}\n",
    "    edge ReadTheDocs.com -to psgraph.readthedocs.io @{label='publish'}\n",
    "} | Show-InNotebook projectFlow2.png"
   ]
  },
  {
   "cell_type": "markdown",
   "metadata": {},
   "source": [
    "## Server farm\n",
    "Imagine you wanted to diagram a server farm dynamically. I am going to auto generate some server names dynamically, but these could be pulled from your environment."
   ]
  },
  {
   "cell_type": "code",
   "execution_count": null,
   "metadata": {
    "dotnet_interactive": {
     "language": "pwsh"
    },
    "vscode": {
     "languageId": "dotnet-interactive.pwsh"
    }
   },
   "outputs": [],
   "source": [
    "# Server counts\n",
    "$WebServerCount = 2\n",
    "$APIServerCount = 2\n",
    "$DatabaseServerCount = 2\n",
    "\n",
    "# Server lists\n",
    "$WebServer = 1..$WebServerCount | % {\"Web_$_\"}\n",
    "$APIServer = 1..$APIServerCount | % {\"API_$_\"}\n",
    "$DatabaseServer = 1..$DatabaseServerCount | % {\"DB_$_\"}"
   ]
  },
  {
   "cell_type": "markdown",
   "metadata": {},
   "source": [
    "With that list of names, we can now quickly produce a graph like this."
   ]
  },
  {
   "cell_type": "code",
   "execution_count": null,
   "metadata": {
    "dotnet_interactive": {
     "language": "pwsh"
    },
    "vscode": {
     "languageId": "dotnet-interactive.pwsh"
    }
   },
   "outputs": [],
   "source": [
    "graph servers {\n",
    "    node -Default @{shape='box'}\n",
    "    edge LoadBalancer -To $WebServer\n",
    "    edge $WebServer -To $APIServer\n",
    "    edge $APIServer -To AvailabilityGroup\n",
    "    edge AvailabilityGroup -To $DatabaseServer\n",
    "} | Show-InNotebook serverCounts.png"
   ]
  },
  {
   "cell_type": "markdown",
   "metadata": {},
   "source": [
    "## Cluster\n",
    "\n",
    "This example illustrates dot's feature to draw nodes and edges in clusters or separate rectangular layout regions. "
   ]
  },
  {
   "cell_type": "code",
   "execution_count": null,
   "metadata": {
    "dotnet_interactive": {
     "language": "pwsh"
    },
    "vscode": {
     "languageId": "dotnet-interactive.pwsh"
    }
   },
   "outputs": [],
   "source": [
    "graph g {\n",
    "    subgraph 0 @{style='filled';color='lightgrey';label='process #1'} {\n",
    "        node @{style='filled';color='white'}\n",
    "        edge a0,a1,a2,a3\n",
    "    }\n",
    "    subgraph 1 @{label='Process #2';color='blue'} {\n",
    "        node @{style='filled'}\n",
    "        edge b0,b1,b2,b3\n",
    "    }\n",
    "    edge start -to a0,b0\n",
    "    edge a1 b3\n",
    "    edge b2,a3,a0\n",
    "    edge a3,b3 -to end\n",
    "\n",
    "    node 'start' @{shape='Mdiamond'}\n",
    "    node 'end'   @{shape='Msquare'}\n",
    "} | Show-InNotebook subgraphs.png"
   ]
  },
  {
   "cell_type": "markdown",
   "metadata": {},
   "source": [
    "## Traffic Lights\n",
    "It is a so-called petri net for Dutch traffic lights. The example is actually taken from a book by Wil van der Aalst.\" Contributed by Manfred Jeusfeld."
   ]
  },
  {
   "cell_type": "code",
   "execution_count": null,
   "metadata": {
    "dotnet_interactive": {
     "language": "pwsh"
    },
    "vscode": {
     "languageId": "dotnet-interactive.pwsh"
    }
   },
   "outputs": [],
   "source": [
    "digraph TrafficLights @{\n",
    "    label=\"PetriNet Model TrafficLights\\nExtracted from ConceptBase and layed out by Graphviz\"\n",
    "    overlap='false'\n",
    "    fontsize=\"12\"\n",
    "} {\n",
    "    node   gy2,yr2,rg2,gy1,yr1,rg1 @{shape='box'}\n",
    "    node green2,yellow2,red2,safe2,safe1,green1,yellow1,red1 @{shape='circle';fixedsize='true';width='0.9'}\n",
    "    edge green1,gy1,yellow1,yr1,safe2,rg2,green2,gy2,yellow2,yr2,safe1,rg1,green1\n",
    "    edge yr1,red1,rg1\n",
    "    edge yr2,red2,rg2\n",
    "}  | Show-InNotebook trafficLights.png"
   ]
  },
  {
   "cell_type": "markdown",
   "metadata": {},
   "source": [
    "## Finite Automaton"
   ]
  },
  {
   "cell_type": "code",
   "execution_count": null,
   "metadata": {
    "dotnet_interactive": {
     "language": "pwsh"
    },
    "vscode": {
     "languageId": "dotnet-interactive.pwsh"
    }
   },
   "outputs": [],
   "source": [
    "graph finite_state_machine @{rankdir='LR';size=8.5} {\n",
    "    node  LR_0,LR_3,LR_4,LR_8 @{shape='doublecircle'}\n",
    "    node @{shape = 'circle'}\n",
    "    edge LR_0 LR_2 @{ label = \"SS(B)\" }\n",
    "    edge LR_0 LR_1 @{ label = \"SS(S)\" }\n",
    "    edge LR_1 LR_3 @{ label = 'S($end)' }\n",
    "    edge LR_2 LR_6 @{ label = \"SS(b)\" }\n",
    "    edge LR_2 LR_5 @{ label = \"SS(a)\" }\n",
    "    edge LR_2 LR_4 @{ label = \"S(A)\" }\n",
    "    edge LR_5 LR_7 @{ label = \"S(b)\" }\n",
    "    edge LR_5 LR_5 @{ label = \"S(a)\" }\n",
    "    edge LR_6 LR_6 @{ label = \"S(b)\" }\n",
    "    edge LR_6 LR_5 @{ label = \"S(a)\" }\n",
    "    edge LR_7 LR_8 @{ label = \"S(b)\" }\n",
    "    edge LR_7 LR_5 @{ label = \"S(a)\" }\n",
    "    edge LR_8 LR_6 @{ label = \"S(b)\" }\n",
    "    edge LR_8 LR_5 @{ label = \"S(a)\" }\n",
    "}  | Show-InNotebook finite_state_machine.png"
   ]
  }
 ],
 "metadata": {
  "kernelspec": {
   "display_name": ".NET (PowerShell)",
   "language": "PowerShell",
   "name": ".net-pwsh"
  },
  "language_info": {
   "name": "PowerShell"
  }
 },
 "nbformat": 4,
 "nbformat_minor": 2
}
